{
  "nbformat": 4,
  "nbformat_minor": 0,
  "metadata": {
    "colab": {
      "provenance": [],
      "authorship_tag": "ABX9TyPlvEHSDWxgPT2vTzr3eAR5",
      "include_colab_link": true
    },
    "kernelspec": {
      "name": "python3",
      "display_name": "Python 3"
    },
    "language_info": {
      "name": "python"
    }
  },
  "cells": [
    {
      "cell_type": "markdown",
      "metadata": {
        "id": "view-in-github",
        "colab_type": "text"
      },
      "source": [
        "<a href=\"https://colab.research.google.com/github/mostafizur06/Heatstroke_Prediction/blob/main/Untitled3.ipynb\" target=\"_parent\"><img src=\"https://colab.research.google.com/assets/colab-badge.svg\" alt=\"Open In Colab\"/></a>"
      ]
    },
    {
      "cell_type": "markdown",
      "source": [
        "# Heat-stroke prediction project using linear regression"
      ],
      "metadata": {
        "id": "fl_ivURTV6RX"
      }
    },
    {
      "cell_type": "code",
      "execution_count": 5,
      "metadata": {
        "id": "xqDQHae7V0Iv"
      },
      "outputs": [],
      "source": [
        "import pandas as pd\n",
        "import matplotlib.pyplot as plt"
      ]
    },
    {
      "cell_type": "code",
      "source": [
        "data = pd.read_csv('/weather_history_bangladesh.csv')"
      ],
      "metadata": {
        "id": "Km9i6EGkW60F"
      },
      "execution_count": 6,
      "outputs": []
    },
    {
      "cell_type": "code",
      "source": [
        "data.head()"
      ],
      "metadata": {
        "colab": {
          "base_uri": "https://localhost:8080/",
          "height": 270
        },
        "id": "jINXAnTeXerC",
        "outputId": "284a40ac-96d4-4254-9e4f-6cbc3e88af80"
      },
      "execution_count": 10,
      "outputs": [
        {
          "output_type": "execute_result",
          "data": {
            "text/plain": [
              "     date     time  temperature_fahrenheit  dew_point_fahrenheit  \\\n",
              "0  1/1/23  0:00:00                      66                    59   \n",
              "1  1/1/23  0:30:00                      66                    59   \n",
              "2  1/1/23  1:00:00                      66                    61   \n",
              "3  1/1/23  1:30:00                      64                    61   \n",
              "4  1/1/23  2:00:00                      64                    61   \n",
              "\n",
              "  humidity_percentage  wind  wind_speed_mph  wind_gust_mph  pressure_in  \\\n",
              "0                  78  CALM               0              0        30.06   \n",
              "1                  78  CALM               0              0        30.03   \n",
              "2                  83  CALM               0              0        30.03   \n",
              "3                  88  CALM               0              0        30.03   \n",
              "4                  88  CALM               0              0        30.03   \n",
              "\n",
              "   precip._in condition  \n",
              "0           0       Fog  \n",
              "1           0       Fog  \n",
              "2           0       Fog  \n",
              "3           0       Fog  \n",
              "4           0       Fog  "
            ],
            "text/html": [
              "\n",
              "  <div id=\"df-fc7d2192-5107-4c7a-bfa7-ed2a776ecff2\">\n",
              "    <div class=\"colab-df-container\">\n",
              "      <div>\n",
              "<style scoped>\n",
              "    .dataframe tbody tr th:only-of-type {\n",
              "        vertical-align: middle;\n",
              "    }\n",
              "\n",
              "    .dataframe tbody tr th {\n",
              "        vertical-align: top;\n",
              "    }\n",
              "\n",
              "    .dataframe thead th {\n",
              "        text-align: right;\n",
              "    }\n",
              "</style>\n",
              "<table border=\"1\" class=\"dataframe\">\n",
              "  <thead>\n",
              "    <tr style=\"text-align: right;\">\n",
              "      <th></th>\n",
              "      <th>date</th>\n",
              "      <th>time</th>\n",
              "      <th>temperature_fahrenheit</th>\n",
              "      <th>dew_point_fahrenheit</th>\n",
              "      <th>humidity_percentage</th>\n",
              "      <th>wind</th>\n",
              "      <th>wind_speed_mph</th>\n",
              "      <th>wind_gust_mph</th>\n",
              "      <th>pressure_in</th>\n",
              "      <th>precip._in</th>\n",
              "      <th>condition</th>\n",
              "    </tr>\n",
              "  </thead>\n",
              "  <tbody>\n",
              "    <tr>\n",
              "      <th>0</th>\n",
              "      <td>1/1/23</td>\n",
              "      <td>0:00:00</td>\n",
              "      <td>66</td>\n",
              "      <td>59</td>\n",
              "      <td>78</td>\n",
              "      <td>CALM</td>\n",
              "      <td>0</td>\n",
              "      <td>0</td>\n",
              "      <td>30.06</td>\n",
              "      <td>0</td>\n",
              "      <td>Fog</td>\n",
              "    </tr>\n",
              "    <tr>\n",
              "      <th>1</th>\n",
              "      <td>1/1/23</td>\n",
              "      <td>0:30:00</td>\n",
              "      <td>66</td>\n",
              "      <td>59</td>\n",
              "      <td>78</td>\n",
              "      <td>CALM</td>\n",
              "      <td>0</td>\n",
              "      <td>0</td>\n",
              "      <td>30.03</td>\n",
              "      <td>0</td>\n",
              "      <td>Fog</td>\n",
              "    </tr>\n",
              "    <tr>\n",
              "      <th>2</th>\n",
              "      <td>1/1/23</td>\n",
              "      <td>1:00:00</td>\n",
              "      <td>66</td>\n",
              "      <td>61</td>\n",
              "      <td>83</td>\n",
              "      <td>CALM</td>\n",
              "      <td>0</td>\n",
              "      <td>0</td>\n",
              "      <td>30.03</td>\n",
              "      <td>0</td>\n",
              "      <td>Fog</td>\n",
              "    </tr>\n",
              "    <tr>\n",
              "      <th>3</th>\n",
              "      <td>1/1/23</td>\n",
              "      <td>1:30:00</td>\n",
              "      <td>64</td>\n",
              "      <td>61</td>\n",
              "      <td>88</td>\n",
              "      <td>CALM</td>\n",
              "      <td>0</td>\n",
              "      <td>0</td>\n",
              "      <td>30.03</td>\n",
              "      <td>0</td>\n",
              "      <td>Fog</td>\n",
              "    </tr>\n",
              "    <tr>\n",
              "      <th>4</th>\n",
              "      <td>1/1/23</td>\n",
              "      <td>2:00:00</td>\n",
              "      <td>64</td>\n",
              "      <td>61</td>\n",
              "      <td>88</td>\n",
              "      <td>CALM</td>\n",
              "      <td>0</td>\n",
              "      <td>0</td>\n",
              "      <td>30.03</td>\n",
              "      <td>0</td>\n",
              "      <td>Fog</td>\n",
              "    </tr>\n",
              "  </tbody>\n",
              "</table>\n",
              "</div>\n",
              "      <button class=\"colab-df-convert\" onclick=\"convertToInteractive('df-fc7d2192-5107-4c7a-bfa7-ed2a776ecff2')\"\n",
              "              title=\"Convert this dataframe to an interactive table.\"\n",
              "              style=\"display:none;\">\n",
              "        \n",
              "  <svg xmlns=\"http://www.w3.org/2000/svg\" height=\"24px\"viewBox=\"0 0 24 24\"\n",
              "       width=\"24px\">\n",
              "    <path d=\"M0 0h24v24H0V0z\" fill=\"none\"/>\n",
              "    <path d=\"M18.56 5.44l.94 2.06.94-2.06 2.06-.94-2.06-.94-.94-2.06-.94 2.06-2.06.94zm-11 1L8.5 8.5l.94-2.06 2.06-.94-2.06-.94L8.5 2.5l-.94 2.06-2.06.94zm10 10l.94 2.06.94-2.06 2.06-.94-2.06-.94-.94-2.06-.94 2.06-2.06.94z\"/><path d=\"M17.41 7.96l-1.37-1.37c-.4-.4-.92-.59-1.43-.59-.52 0-1.04.2-1.43.59L10.3 9.45l-7.72 7.72c-.78.78-.78 2.05 0 2.83L4 21.41c.39.39.9.59 1.41.59.51 0 1.02-.2 1.41-.59l7.78-7.78 2.81-2.81c.8-.78.8-2.07 0-2.86zM5.41 20L4 18.59l7.72-7.72 1.47 1.35L5.41 20z\"/>\n",
              "  </svg>\n",
              "      </button>\n",
              "      \n",
              "  <style>\n",
              "    .colab-df-container {\n",
              "      display:flex;\n",
              "      flex-wrap:wrap;\n",
              "      gap: 12px;\n",
              "    }\n",
              "\n",
              "    .colab-df-convert {\n",
              "      background-color: #E8F0FE;\n",
              "      border: none;\n",
              "      border-radius: 50%;\n",
              "      cursor: pointer;\n",
              "      display: none;\n",
              "      fill: #1967D2;\n",
              "      height: 32px;\n",
              "      padding: 0 0 0 0;\n",
              "      width: 32px;\n",
              "    }\n",
              "\n",
              "    .colab-df-convert:hover {\n",
              "      background-color: #E2EBFA;\n",
              "      box-shadow: 0px 1px 2px rgba(60, 64, 67, 0.3), 0px 1px 3px 1px rgba(60, 64, 67, 0.15);\n",
              "      fill: #174EA6;\n",
              "    }\n",
              "\n",
              "    [theme=dark] .colab-df-convert {\n",
              "      background-color: #3B4455;\n",
              "      fill: #D2E3FC;\n",
              "    }\n",
              "\n",
              "    [theme=dark] .colab-df-convert:hover {\n",
              "      background-color: #434B5C;\n",
              "      box-shadow: 0px 1px 3px 1px rgba(0, 0, 0, 0.15);\n",
              "      filter: drop-shadow(0px 1px 2px rgba(0, 0, 0, 0.3));\n",
              "      fill: #FFFFFF;\n",
              "    }\n",
              "  </style>\n",
              "\n",
              "      <script>\n",
              "        const buttonEl =\n",
              "          document.querySelector('#df-fc7d2192-5107-4c7a-bfa7-ed2a776ecff2 button.colab-df-convert');\n",
              "        buttonEl.style.display =\n",
              "          google.colab.kernel.accessAllowed ? 'block' : 'none';\n",
              "\n",
              "        async function convertToInteractive(key) {\n",
              "          const element = document.querySelector('#df-fc7d2192-5107-4c7a-bfa7-ed2a776ecff2');\n",
              "          const dataTable =\n",
              "            await google.colab.kernel.invokeFunction('convertToInteractive',\n",
              "                                                     [key], {});\n",
              "          if (!dataTable) return;\n",
              "\n",
              "          const docLinkHtml = 'Like what you see? Visit the ' +\n",
              "            '<a target=\"_blank\" href=https://colab.research.google.com/notebooks/data_table.ipynb>data table notebook</a>'\n",
              "            + ' to learn more about interactive tables.';\n",
              "          element.innerHTML = '';\n",
              "          dataTable['output_type'] = 'display_data';\n",
              "          await google.colab.output.renderOutput(dataTable, element);\n",
              "          const docLink = document.createElement('div');\n",
              "          docLink.innerHTML = docLinkHtml;\n",
              "          element.appendChild(docLink);\n",
              "        }\n",
              "      </script>\n",
              "    </div>\n",
              "  </div>\n",
              "  "
            ]
          },
          "metadata": {},
          "execution_count": 10
        }
      ]
    },
    {
      "cell_type": "code",
      "source": [
        "data.shape"
      ],
      "metadata": {
        "colab": {
          "base_uri": "https://localhost:8080/"
        },
        "id": "1mWclOtrXxHU",
        "outputId": "3a1420f4-f70e-4d68-a52d-4f0fb9ef1239"
      },
      "execution_count": 8,
      "outputs": [
        {
          "output_type": "execute_result",
          "data": {
            "text/plain": [
              "(2917, 11)"
            ]
          },
          "metadata": {},
          "execution_count": 8
        }
      ]
    },
    {
      "cell_type": "code",
      "source": [
        "temperature = data['temperature_fahrenheit']\n",
        "\n",
        "data['humidity_percentage'] = data['humidity_percentage'].astype('int64')\n",
        "humidity = data['humidity_percentage']"
      ],
      "metadata": {
        "id": "2q0TDWhQX3J6"
      },
      "execution_count": 13,
      "outputs": []
    },
    {
      "cell_type": "code",
      "source": [
        "# type(temperature)"
      ],
      "metadata": {
        "id": "SBGY5CGeY3-8"
      },
      "execution_count": null,
      "outputs": []
    },
    {
      "cell_type": "code",
      "source": [
        "humidity"
      ],
      "metadata": {
        "colab": {
          "base_uri": "https://localhost:8080/"
        },
        "id": "BiPhPRQUYRFn",
        "outputId": "a19a876a-54d3-4cc4-e744-a223297a7751"
      },
      "execution_count": 15,
      "outputs": [
        {
          "output_type": "execute_result",
          "data": {
            "text/plain": [
              "0       78\n",
              "1       78\n",
              "2       83\n",
              "3       88\n",
              "4       88\n",
              "        ..\n",
              "2912    84\n",
              "2913    84\n",
              "2914    79\n",
              "2915    79\n",
              "2916    79\n",
              "Name: humidity_percentage, Length: 2917, dtype: int64"
            ]
          },
          "metadata": {},
          "execution_count": 15
        }
      ]
    },
    {
      "cell_type": "code",
      "source": [
        "temperature"
      ],
      "metadata": {
        "colab": {
          "base_uri": "https://localhost:8080/"
        },
        "id": "dxHe_rdrYu30",
        "outputId": "9e297eab-05b8-4283-d3ee-959ca0992779"
      },
      "execution_count": 16,
      "outputs": [
        {
          "output_type": "execute_result",
          "data": {
            "text/plain": [
              "0       66\n",
              "1       66\n",
              "2       66\n",
              "3       64\n",
              "4       64\n",
              "        ..\n",
              "2912    82\n",
              "2913    82\n",
              "2914    82\n",
              "2915    82\n",
              "2916    82\n",
              "Name: temperature_fahrenheit, Length: 2917, dtype: int64"
            ]
          },
          "metadata": {},
          "execution_count": 16
        }
      ]
    },
    {
      "cell_type": "code",
      "source": [
        "plt.scatter(temperature, humidity)\n",
        "plt.xlabel('Temperature')\n",
        "plt.ylabel('Humidity')\n",
        "plt.title('Temperature vs Humidity')\n",
        "plt.show()"
      ],
      "metadata": {
        "colab": {
          "base_uri": "https://localhost:8080/",
          "height": 472
        },
        "id": "yjcaIF5ranMf",
        "outputId": "f20c0df0-11f6-4639-f9b2-05db8705ce9e"
      },
      "execution_count": 25,
      "outputs": [
        {
          "output_type": "display_data",
          "data": {
            "text/plain": [
              "<Figure size 640x480 with 1 Axes>"
            ],
            "image/png": "[encoded data removed]"
          },
          "metadata": {}
        }
      ]
    },
    {
      "cell_type": "code",
      "source": [
        "# mean_temperature = data[\"temperature_fahrenheit\"].mean()\n",
        "mean_temperature = temperature.mean()\n",
        "mean_temperature"
      ],
      "metadata": {
        "colab": {
          "base_uri": "https://localhost:8080/"
        },
        "id": "ZTznibeCYyy7",
        "outputId": "24a22fba-e97e-4336-f421-1743369ae307"
      },
      "execution_count": 18,
      "outputs": [
        {
          "output_type": "execute_result",
          "data": {
            "text/plain": [
              "76.80356530682208"
            ]
          },
          "metadata": {},
          "execution_count": 18
        }
      ]
    },
    {
      "cell_type": "code",
      "source": [
        "mean_humidity = humidity.mean()\n",
        "mean_humidity"
      ],
      "metadata": {
        "colab": {
          "base_uri": "https://localhost:8080/"
        },
        "id": "Qa0A7SVeZRH3",
        "outputId": "f557b3c2-33b5-4ad5-8301-8eb8dbd0eb19"
      },
      "execution_count": 19,
      "outputs": [
        {
          "output_type": "execute_result",
          "data": {
            "text/plain": [
              "72.35138841275283"
            ]
          },
          "metadata": {},
          "execution_count": 19
        }
      ]
    },
    {
      "cell_type": "code",
      "source": [
        "diff_temperature = temperature - mean_temperature\n",
        "diff_humidity = humidity - mean_humidity\n"
      ],
      "metadata": {
        "id": "fFLSFrceZcFI"
      },
      "execution_count": 20,
      "outputs": []
    },
    {
      "cell_type": "code",
      "source": [
        "\n",
        "# m = (temperature * humidity).sum() / (temperature ** 2).sum()\n",
        "m = (diff_temperature * diff_humidity).sum() / (diff_temperature ** 2).sum()\n",
        "c = mean_humidity - m * mean_temperature\n",
        "heatstroke = m * temperature + c"
      ],
      "metadata": {
        "id": "0K0XWEouZnHW"
      },
      "execution_count": 21,
      "outputs": []
    },
    {
      "cell_type": "code",
      "source": [
        "heatstroke"
      ],
      "metadata": {
        "colab": {
          "base_uri": "https://localhost:8080/"
        },
        "id": "-v617_kJZrWr",
        "outputId": "533bc8ec-7b24-4c13-9a97-cf00381d0244"
      },
      "execution_count": 22,
      "outputs": [
        {
          "output_type": "execute_result",
          "data": {
            "text/plain": [
              "0       77.590721\n",
              "1       77.590721\n",
              "2       77.590721\n",
              "3       78.560648\n",
              "4       78.560648\n",
              "          ...    \n",
              "2912    69.831308\n",
              "2913    69.831308\n",
              "2914    69.831308\n",
              "2915    69.831308\n",
              "2916    69.831308\n",
              "Name: temperature_fahrenheit, Length: 2917, dtype: float64"
            ]
          },
          "metadata": {},
          "execution_count": 22
        }
      ]
    },
    {
      "cell_type": "code",
      "source": [
        "plt.scatter(temperature, humidity, color='blue', label='Temp_Humidity')\n",
        "plt.plot(temperature, heatstroke, color='red', label='HearthStroke_Predicted')\n",
        "plt.xlabel('Temperature')\n",
        "plt.ylabel('Humidity')\n",
        "plt.title('Heatstroke Prediction')\n",
        "plt.show()"
      ],
      "metadata": {
        "colab": {
          "base_uri": "https://localhost:8080/",
          "height": 472
        },
        "id": "CCFvkD_xalEV",
        "outputId": "596fb9e7-b910-4338-8ba8-f6273973f5dd"
      },
      "execution_count": 26,
      "outputs": [
        {
          "output_type": "display_data",
          "data": {
            "text/plain": [
              "<Figure size 640x480 with 1 Axes>"
            ],
            "image/png": "[encoded data removed]"
          },
          "metadata": {}
        }
      ]
    }
  ]
}